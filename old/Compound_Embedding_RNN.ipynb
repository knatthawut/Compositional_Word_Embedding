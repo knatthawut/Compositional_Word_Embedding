{
 "cells": [
  {
   "cell_type": "markdown",
   "metadata": {},
   "source": [
    "# Import Libraries"
   ]
  },
  {
   "cell_type": "code",
   "execution_count": 1,
   "metadata": {},
   "outputs": [
    {
     "name": "stderr",
     "output_type": "stream",
     "text": [
      "Using TensorFlow backend.\n"
     ]
    }
   ],
   "source": [
    "'''\n",
    "Main file to run the experiment 2:\n",
    "Compare MRR and HIT \n",
    "'''\n",
    "\n",
    "#Import Libraries\n",
    "import tensorflow as tf\n",
    "from tensorflow.keras.layers import SimpleRNN, Embedding\n",
    "from tensorflow.keras.models import Sequential\n",
    "from tensorflow.keras.initializers import Constant\n",
    "from gensim.models import Word2Vec\n",
    "import functools\n",
    "import numpy as np\n",
    "import sys\n",
    "import os\n",
    "import pprint\n",
    "from keras.preprocessing.text import Tokenizer\n",
    "pp = pprint.PrettyPrinter(indent=4)\n",
    "from keras.preprocessing.sequence import pad_sequences\n",
    "from sklearn.model_selection import StratifiedKFold, KFold\n",
    "\n",
    "# Import modules\n",
    "import utils\n",
    "import evaluation\n",
    "# Import Baselines\n",
    "from SimpleRNN import Simple_RNN_baseline\n",
    "from Average_baseline import AVG_baseline"
   ]
  },
  {
   "cell_type": "markdown",
   "metadata": {},
   "source": [
    "# Cont declaration"
   ]
  },
  {
   "cell_type": "code",
   "execution_count": 2,
   "metadata": {},
   "outputs": [],
   "source": [
    "# Files Paths\n",
    "type_of_Word2Vec_model = 'CBOW'\n",
    "vector_file_name = 'wiki-db_more50_200'\n",
    "vector_file_name_path = './../model/' + type_of_Word2Vec_model + '/' + vector_file_name\n",
    "train_file_name = 'uni_pair_combine_less100'\n",
    "train_file_path = './../dataset/train_data/'\n",
    "\n",
    "save_model_path = './../model/'\n",
    "x_file = save_model_path + 'Evaluation/' + type_of_Word2Vec_model + '_X_feature.npy'\n",
    "y_file = save_model_path + 'Evaluation/' + type_of_Word2Vec_model + '_Y_label.npy'\n",
    "\n",
    "# Integer Constant\n",
    "MAX_SEQUENCE_LENGTH = 21\n",
    "num_of_epochs = 1000\n",
    "batch_size = 1024*32\n",
    "validation_split = 0.01\n",
    "# Hyperparameters Setup\n",
    "embedding_dim = 200\n",
    "num_hidden = 128"
   ]
  },
  {
   "cell_type": "markdown",
   "metadata": {},
   "source": [
    "# Hyper parameters Setup"
   ]
  },
  {
   "cell_type": "markdown",
   "metadata": {},
   "source": [
    "# Function Implementations"
   ]
  },
  {
   "cell_type": "code",
   "execution_count": 3,
   "metadata": {},
   "outputs": [],
   "source": [
    "def train_evaluate(wordvec, main_baseline, x_train_cv, y_train_cv , x_test_cv, y_label_cv):\n",
    "    '''\n",
    "    Function to train main_baseline evaluation in Cross-validation scenario for Experiment 2\n",
    "    Input: \n",
    "            main_baseline: the main baseline that need to be compare with comparison_baseline\n",
    "            x_train_cv: feature matrix (X) for training, shape(90% number_of_data, MAX_SEQUENCE_LENGTH) of word_idx\n",
    "            y_train_cv: label matrix (Y) for training, shape(90% number_of_data, embedding_dim) word vector of compount word\n",
    "            x_test_cv: x_train_cv: feature matrix (X) for testing, shape(10% number_of_data, MAX_SEQUENCE_LENGTH) of word_idx\n",
    "            y_test_cv: label matrix (Y) for testing, shape(10% number_of_data, embedding_dim) word vector of compount word\n",
    "\n",
    "    Output:\n",
    "            MRR: Mean reciprocal rank of the main_baseline\n",
    "            HIT_1: HIT@1 of the main_baseline\n",
    "            HIT_10: HIT@10 of the main_baseline\n",
    "    '''\n",
    "    ## Training Phase\n",
    "    # Train the main_baseline\n",
    "    main_baseline.train(x_train_cv,y_train_cv,num_of_epochs,batch_size,validation_split)\n",
    "\n",
    "    ## Inference Phase\n",
    "    # Predict result of the main_baseline\n",
    "    main_baseline_y_predict = main_baseline.predict(x_test_cv)\n",
    "\n",
    "    \n",
    "    ## Testing \n",
    "    MRR, HIT_1, HIT_10 = evaluation.calculateMRR_HIT(wordvec,y_label_cv,main_baseline_y_predict)\n",
    "    \n",
    "    \n",
    "    return MRR , HIT_1, HIT_10"
   ]
  },
  {
   "cell_type": "markdown",
   "metadata": {},
   "source": [
    "# Main"
   ]
  },
  {
   "cell_type": "code",
   "execution_count": 4,
   "metadata": {},
   "outputs": [
    {
     "name": "stdout",
     "output_type": "stream",
     "text": [
      "Loaded Word2Vec model\n"
     ]
    }
   ],
   "source": [
    "# Load the Pretrained Word Vector from Gensim\n",
    "wordvec = Word2Vec.load(vector_file_name_path) # Load the model from the vector_file_name\n",
    "wordvec.wv.init_sims(replace=True)\n",
    "print('Loaded Word2Vec model')"
   ]
  },
  {
   "cell_type": "code",
   "execution_count": 5,
   "metadata": {
    "scrolled": true
   },
   "outputs": [
    {
     "name": "stdout",
     "output_type": "stream",
     "text": [
      "Vocab size:  968009\n"
     ]
    }
   ],
   "source": [
    "# Get Vocabulary Size\n",
    "vocab_size = len(wordvec.wv.vocab)\n",
    "print('Vocab size: ', vocab_size)"
   ]
  },
  {
   "cell_type": "code",
   "execution_count": 6,
   "metadata": {},
   "outputs": [],
   "source": [
    "    # Prepare Train_data\n",
    "fname = os.path.join(train_file_path,train_file_name)\n",
    "label = utils.load_label_data_from_text_file(fname,wordvec,MAX_SEQUENCE_LENGTH) # Preprocess the input data for the model\n",
    "X,Y = utils.load_data_from_text_file(fname,wordvec,MAX_SEQUENCE_LENGTH)\n",
    "# X, Y = utils.load_data_from_numpy(x_file, y_file)            # Load input data from numpy file"
   ]
  },
  {
   "cell_type": "code",
   "execution_count": 7,
   "metadata": {},
   "outputs": [],
   "source": [
    " # Convert Word2Vec Gensim Model to Embedding Matrix to input into RNN\n",
    "embedding_matrix = utils.Word2VecTOEmbeddingMatrix(wordvec,embedding_dim)"
   ]
  },
  {
   "cell_type": "code",
   "execution_count": 8,
   "metadata": {},
   "outputs": [
    {
     "data": {
      "text/plain": [
       "201970"
      ]
     },
     "execution_count": 8,
     "metadata": {},
     "output_type": "execute_result"
    }
   ],
   "source": [
    "len(X)"
   ]
  },
  {
   "cell_type": "code",
   "execution_count": 9,
   "metadata": {},
   "outputs": [
    {
     "data": {
      "text/plain": [
       "201970"
      ]
     },
     "execution_count": 9,
     "metadata": {},
     "output_type": "execute_result"
    }
   ],
   "source": [
    "len(Y)"
   ]
  },
  {
   "cell_type": "code",
   "execution_count": 10,
   "metadata": {},
   "outputs": [
    {
     "data": {
      "text/plain": [
       "201970"
      ]
     },
     "execution_count": 10,
     "metadata": {},
     "output_type": "execute_result"
    }
   ],
   "source": [
    "len(label)"
   ]
  },
  {
   "cell_type": "code",
   "execution_count": null,
   "metadata": {},
   "outputs": [
    {
     "name": "stdout",
     "output_type": "stream",
     "text": [
      "_________________________________________________________________\n",
      "Layer (type)                 Output Shape              Param #   \n",
      "=================================================================\n",
      "embedding (Embedding)        (None, 21, 200)           193601800 \n",
      "_________________________________________________________________\n",
      "simple_rnn (SimpleRNN)       (None, 200)               80200     \n",
      "=================================================================\n",
      "Total params: 193,682,000\n",
      "Trainable params: 80,200\n",
      "Non-trainable params: 193,601,800\n",
      "_________________________________________________________________\n",
      "None\n",
      "Train on 179955 samples, validate on 1818 samples\n",
      "Epoch 1/100\n",
      "179955/179955 [==============================] - 5s 29us/step - loss: 0.0083 - acc: 0.0070 - val_loss: 0.0067 - val_acc: 0.0072\n",
      "Epoch 2/100\n",
      "179955/179955 [==============================] - 1s 3us/step - loss: 0.0064 - acc: 0.0072 - val_loss: 0.0059 - val_acc: 0.0094\n",
      "Epoch 3/100\n",
      "179955/179955 [==============================] - 1s 3us/step - loss: 0.0058 - acc: 0.0088 - val_loss: 0.0056 - val_acc: 0.0116\n",
      "Epoch 4/100\n",
      "179955/179955 [==============================] - 1s 4us/step - loss: 0.0055 - acc: 0.0108 - val_loss: 0.0054 - val_acc: 0.0127\n",
      "Epoch 5/100\n",
      "179955/179955 [==============================] - 1s 3us/step - loss: 0.0053 - acc: 0.0133 - val_loss: 0.0052 - val_acc: 0.0176\n",
      "Epoch 6/100\n",
      "179955/179955 [==============================] - 1s 4us/step - loss: 0.0052 - acc: 0.0161 - val_loss: 0.0052 - val_acc: 0.0209\n",
      "Epoch 7/100\n",
      "179955/179955 [==============================] - 1s 3us/step - loss: 0.0052 - acc: 0.0196 - val_loss: 0.0051 - val_acc: 0.0231\n",
      "Epoch 8/100\n",
      "179955/179955 [==============================] - 1s 3us/step - loss: 0.0051 - acc: 0.0228 - val_loss: 0.0051 - val_acc: 0.0253\n",
      "Epoch 9/100\n",
      "179955/179955 [==============================] - 1s 3us/step - loss: 0.0051 - acc: 0.0262 - val_loss: 0.0051 - val_acc: 0.0259\n",
      "Epoch 10/100\n",
      "179955/179955 [==============================] - 1s 3us/step - loss: 0.0051 - acc: 0.0287 - val_loss: 0.0050 - val_acc: 0.0264\n",
      "Epoch 11/100\n",
      "179955/179955 [==============================] - 1s 4us/step - loss: 0.0050 - acc: 0.0308 - val_loss: 0.0050 - val_acc: 0.0286\n",
      "Epoch 12/100\n",
      "179955/179955 [==============================] - 1s 3us/step - loss: 0.0050 - acc: 0.0324 - val_loss: 0.0050 - val_acc: 0.0292\n",
      "Epoch 13/100\n",
      "179955/179955 [==============================] - 1s 3us/step - loss: 0.0050 - acc: 0.0335 - val_loss: 0.0050 - val_acc: 0.0286\n",
      "Epoch 14/100\n",
      "179955/179955 [==============================] - 1s 3us/step - loss: 0.0050 - acc: 0.0347 - val_loss: 0.0050 - val_acc: 0.0270\n",
      "Epoch 15/100\n",
      "179955/179955 [==============================] - 1s 3us/step - loss: 0.0050 - acc: 0.0358 - val_loss: 0.0050 - val_acc: 0.0286\n",
      "Epoch 16/100\n",
      "179955/179955 [==============================] - 1s 3us/step - loss: 0.0050 - acc: 0.0371 - val_loss: 0.0050 - val_acc: 0.0297\n",
      "Epoch 17/100\n",
      "179955/179955 [==============================] - 1s 3us/step - loss: 0.0050 - acc: 0.0383 - val_loss: 0.0050 - val_acc: 0.0303\n",
      "Epoch 18/100\n",
      "179955/179955 [==============================] - 1s 4us/step - loss: 0.0050 - acc: 0.0392 - val_loss: 0.0049 - val_acc: 0.0297\n",
      "Epoch 19/100\n",
      "179955/179955 [==============================] - 1s 4us/step - loss: 0.0049 - acc: 0.0402 - val_loss: 0.0049 - val_acc: 0.0325\n",
      "Epoch 20/100\n",
      "179955/179955 [==============================] - 1s 4us/step - loss: 0.0049 - acc: 0.0410 - val_loss: 0.0049 - val_acc: 0.0358\n",
      "Epoch 21/100\n",
      "179955/179955 [==============================] - 1s 3us/step - loss: 0.0049 - acc: 0.0417 - val_loss: 0.0049 - val_acc: 0.0363\n",
      "Epoch 22/100\n",
      "179955/179955 [==============================] - 1s 3us/step - loss: 0.0049 - acc: 0.0426 - val_loss: 0.0049 - val_acc: 0.0380\n",
      "Epoch 23/100\n",
      "179955/179955 [==============================] - 1s 3us/step - loss: 0.0049 - acc: 0.0434 - val_loss: 0.0049 - val_acc: 0.0407\n",
      "Epoch 24/100\n",
      "179955/179955 [==============================] - 1s 4us/step - loss: 0.0049 - acc: 0.0444 - val_loss: 0.0049 - val_acc: 0.0424\n",
      "Epoch 25/100\n",
      "179955/179955 [==============================] - 1s 3us/step - loss: 0.0049 - acc: 0.0453 - val_loss: 0.0049 - val_acc: 0.0435\n",
      "Epoch 26/100\n",
      "179955/179955 [==============================] - 1s 4us/step - loss: 0.0049 - acc: 0.0464 - val_loss: 0.0049 - val_acc: 0.0440\n",
      "Epoch 27/100\n",
      "179955/179955 [==============================] - 1s 3us/step - loss: 0.0049 - acc: 0.0472 - val_loss: 0.0049 - val_acc: 0.0435\n",
      "Epoch 28/100\n",
      "179955/179955 [==============================] - 1s 3us/step - loss: 0.0049 - acc: 0.0479 - val_loss: 0.0049 - val_acc: 0.0440\n",
      "Epoch 29/100\n",
      "179955/179955 [==============================] - 1s 3us/step - loss: 0.0049 - acc: 0.0485 - val_loss: 0.0048 - val_acc: 0.0429\n",
      "Epoch 30/100\n",
      "179955/179955 [==============================] - 1s 3us/step - loss: 0.0049 - acc: 0.0493 - val_loss: 0.0048 - val_acc: 0.0424\n",
      "Epoch 31/100\n",
      "179955/179955 [==============================] - 1s 4us/step - loss: 0.0048 - acc: 0.0499 - val_loss: 0.0048 - val_acc: 0.0435\n",
      "Epoch 32/100\n",
      "179955/179955 [==============================] - 1s 3us/step - loss: 0.0048 - acc: 0.0507 - val_loss: 0.0048 - val_acc: 0.0468\n",
      "Epoch 33/100\n",
      "179955/179955 [==============================] - 1s 3us/step - loss: 0.0048 - acc: 0.0513 - val_loss: 0.0048 - val_acc: 0.0462\n",
      "Epoch 34/100\n",
      "179955/179955 [==============================] - 1s 3us/step - loss: 0.0048 - acc: 0.0520 - val_loss: 0.0048 - val_acc: 0.0473\n",
      "Epoch 35/100\n",
      "179955/179955 [==============================] - 1s 3us/step - loss: 0.0048 - acc: 0.0524 - val_loss: 0.0048 - val_acc: 0.0462\n",
      "Epoch 36/100\n",
      "179955/179955 [==============================] - 1s 4us/step - loss: 0.0048 - acc: 0.0530 - val_loss: 0.0048 - val_acc: 0.0462\n",
      "Epoch 37/100\n",
      "179955/179955 [==============================] - 1s 3us/step - loss: 0.0048 - acc: 0.0536 - val_loss: 0.0048 - val_acc: 0.0484\n",
      "Epoch 38/100\n",
      "179955/179955 [==============================] - 1s 3us/step - loss: 0.0048 - acc: 0.0541 - val_loss: 0.0048 - val_acc: 0.0495\n",
      "Epoch 39/100\n",
      "179955/179955 [==============================] - 1s 3us/step - loss: 0.0048 - acc: 0.0548 - val_loss: 0.0048 - val_acc: 0.0523\n",
      "Epoch 40/100\n",
      "179955/179955 [==============================] - 1s 3us/step - loss: 0.0048 - acc: 0.0556 - val_loss: 0.0048 - val_acc: 0.0539\n",
      "Epoch 41/100\n",
      "179955/179955 [==============================] - 1s 3us/step - loss: 0.0048 - acc: 0.0561 - val_loss: 0.0048 - val_acc: 0.0550\n",
      "Epoch 42/100\n",
      "179955/179955 [==============================] - 1s 3us/step - loss: 0.0048 - acc: 0.0566 - val_loss: 0.0048 - val_acc: 0.0545\n",
      "Epoch 43/100\n",
      "179955/179955 [==============================] - 1s 4us/step - loss: 0.0048 - acc: 0.0571 - val_loss: 0.0048 - val_acc: 0.0545\n",
      "Epoch 44/100\n",
      "179955/179955 [==============================] - 1s 3us/step - loss: 0.0048 - acc: 0.0578 - val_loss: 0.0048 - val_acc: 0.0556\n",
      "Epoch 45/100\n",
      "179955/179955 [==============================] - 1s 4us/step - loss: 0.0048 - acc: 0.0581 - val_loss: 0.0048 - val_acc: 0.0561\n",
      "Epoch 46/100\n",
      "179955/179955 [==============================] - 1s 4us/step - loss: 0.0048 - acc: 0.0584 - val_loss: 0.0048 - val_acc: 0.0578\n",
      "Epoch 47/100\n",
      "179955/179955 [==============================] - 1s 3us/step - loss: 0.0048 - acc: 0.0592 - val_loss: 0.0048 - val_acc: 0.0561\n",
      "Epoch 48/100\n",
      "179955/179955 [==============================] - 1s 3us/step - loss: 0.0048 - acc: 0.0595 - val_loss: 0.0047 - val_acc: 0.0550\n",
      "Epoch 49/100\n",
      "179955/179955 [==============================] - 1s 3us/step - loss: 0.0048 - acc: 0.0601 - val_loss: 0.0047 - val_acc: 0.0550\n",
      "Epoch 50/100\n",
      "179955/179955 [==============================] - 1s 3us/step - loss: 0.0047 - acc: 0.0606 - val_loss: 0.0047 - val_acc: 0.0550\n",
      "Epoch 51/100\n",
      "179955/179955 [==============================] - 1s 3us/step - loss: 0.0047 - acc: 0.0612 - val_loss: 0.0047 - val_acc: 0.0567\n",
      "Epoch 52/100\n",
      "179955/179955 [==============================] - 1s 4us/step - loss: 0.0047 - acc: 0.0616 - val_loss: 0.0047 - val_acc: 0.0600\n",
      "Epoch 53/100\n",
      "179955/179955 [==============================] - 1s 4us/step - loss: 0.0047 - acc: 0.0618 - val_loss: 0.0047 - val_acc: 0.0611\n",
      "Epoch 54/100\n",
      "179955/179955 [==============================] - 1s 4us/step - loss: 0.0047 - acc: 0.0620 - val_loss: 0.0047 - val_acc: 0.0600\n"
     ]
    },
    {
     "name": "stdout",
     "output_type": "stream",
     "text": [
      "Epoch 55/100\n",
      "179955/179955 [==============================] - 1s 4us/step - loss: 0.0047 - acc: 0.0622 - val_loss: 0.0047 - val_acc: 0.0600\n",
      "Epoch 56/100\n",
      "179955/179955 [==============================] - 1s 3us/step - loss: 0.0047 - acc: 0.0626 - val_loss: 0.0047 - val_acc: 0.0594\n",
      "Epoch 57/100\n",
      "179955/179955 [==============================] - 1s 3us/step - loss: 0.0047 - acc: 0.0630 - val_loss: 0.0047 - val_acc: 0.0611\n",
      "Epoch 58/100\n",
      "179955/179955 [==============================] - 1s 3us/step - loss: 0.0047 - acc: 0.0633 - val_loss: 0.0047 - val_acc: 0.0616\n",
      "Epoch 59/100\n",
      "179955/179955 [==============================] - 1s 3us/step - loss: 0.0047 - acc: 0.0639 - val_loss: 0.0047 - val_acc: 0.0616\n",
      "Epoch 60/100\n",
      "179955/179955 [==============================] - 1s 3us/step - loss: 0.0047 - acc: 0.0645 - val_loss: 0.0047 - val_acc: 0.0600\n",
      "Epoch 61/100\n",
      "179955/179955 [==============================] - 1s 3us/step - loss: 0.0047 - acc: 0.0648 - val_loss: 0.0047 - val_acc: 0.0616\n",
      "Epoch 62/100\n",
      "179955/179955 [==============================] - 1s 4us/step - loss: 0.0047 - acc: 0.0654 - val_loss: 0.0047 - val_acc: 0.0627\n",
      "Epoch 63/100\n",
      "179955/179955 [==============================] - 1s 4us/step - loss: 0.0047 - acc: 0.0659 - val_loss: 0.0047 - val_acc: 0.0644\n",
      "Epoch 64/100\n",
      "179955/179955 [==============================] - 1s 4us/step - loss: 0.0047 - acc: 0.0664 - val_loss: 0.0047 - val_acc: 0.0666\n",
      "Epoch 65/100\n",
      "179955/179955 [==============================] - 1s 4us/step - loss: 0.0047 - acc: 0.0668 - val_loss: 0.0047 - val_acc: 0.0655\n",
      "Epoch 66/100\n",
      "179955/179955 [==============================] - 1s 4us/step - loss: 0.0047 - acc: 0.0671 - val_loss: 0.0047 - val_acc: 0.0644\n",
      "Epoch 67/100\n",
      "179955/179955 [==============================] - 1s 3us/step - loss: 0.0047 - acc: 0.0675 - val_loss: 0.0047 - val_acc: 0.0671\n",
      "Epoch 68/100\n",
      "179955/179955 [==============================] - 1s 3us/step - loss: 0.0047 - acc: 0.0677 - val_loss: 0.0047 - val_acc: 0.0666\n",
      "Epoch 69/100\n",
      "179955/179955 [==============================] - 1s 3us/step - loss: 0.0047 - acc: 0.0679 - val_loss: 0.0047 - val_acc: 0.0660\n",
      "Epoch 70/100\n",
      "179955/179955 [==============================] - 1s 3us/step - loss: 0.0047 - acc: 0.0681 - val_loss: 0.0047 - val_acc: 0.0655\n",
      "Epoch 71/100\n",
      "179955/179955 [==============================] - 1s 4us/step - loss: 0.0047 - acc: 0.0685 - val_loss: 0.0047 - val_acc: 0.0682\n",
      "Epoch 72/100\n",
      "179955/179955 [==============================] - 1s 3us/step - loss: 0.0047 - acc: 0.0684 - val_loss: 0.0047 - val_acc: 0.0660\n",
      "Epoch 73/100\n",
      "179955/179955 [==============================] - 1s 4us/step - loss: 0.0047 - acc: 0.0693 - val_loss: 0.0047 - val_acc: 0.0655\n",
      "Epoch 74/100\n",
      "179955/179955 [==============================] - 1s 3us/step - loss: 0.0047 - acc: 0.0694 - val_loss: 0.0047 - val_acc: 0.0677\n",
      "Epoch 75/100\n",
      "179955/179955 [==============================] - 1s 4us/step - loss: 0.0047 - acc: 0.0699 - val_loss: 0.0047 - val_acc: 0.0688\n",
      "Epoch 76/100\n",
      "179955/179955 [==============================] - 1s 3us/step - loss: 0.0047 - acc: 0.0703 - val_loss: 0.0047 - val_acc: 0.0677\n",
      "Epoch 77/100\n",
      "179955/179955 [==============================] - 1s 3us/step - loss: 0.0047 - acc: 0.0707 - val_loss: 0.0047 - val_acc: 0.0677\n",
      "Epoch 78/100\n",
      "179955/179955 [==============================] - 1s 3us/step - loss: 0.0047 - acc: 0.0713 - val_loss: 0.0047 - val_acc: 0.0682\n",
      "Epoch 79/100\n",
      "179955/179955 [==============================] - 1s 3us/step - loss: 0.0047 - acc: 0.0712 - val_loss: 0.0046 - val_acc: 0.0682\n",
      "Epoch 80/100\n",
      "179955/179955 [==============================] - 1s 3us/step - loss: 0.0047 - acc: 0.0713 - val_loss: 0.0046 - val_acc: 0.0710\n",
      "Epoch 81/100\n",
      "179955/179955 [==============================] - 1s 3us/step - loss: 0.0047 - acc: 0.0711 - val_loss: 0.0046 - val_acc: 0.0732\n",
      "Epoch 82/100\n",
      "179955/179955 [==============================] - 1s 4us/step - loss: 0.0046 - acc: 0.0714 - val_loss: 0.0046 - val_acc: 0.0710\n",
      "Epoch 83/100\n",
      "179955/179955 [==============================] - 1s 3us/step - loss: 0.0046 - acc: 0.0722 - val_loss: 0.0046 - val_acc: 0.0721\n",
      "Epoch 84/100\n",
      "179955/179955 [==============================] - 1s 4us/step - loss: 0.0046 - acc: 0.0728 - val_loss: 0.0046 - val_acc: 0.0732\n",
      "Epoch 85/100\n",
      "179955/179955 [==============================] - 1s 3us/step - loss: 0.0046 - acc: 0.0732 - val_loss: 0.0046 - val_acc: 0.0743\n",
      "Epoch 86/100\n",
      "179955/179955 [==============================] - 1s 3us/step - loss: 0.0046 - acc: 0.0738 - val_loss: 0.0046 - val_acc: 0.0699\n",
      "Epoch 87/100\n",
      "179955/179955 [==============================] - 1s 3us/step - loss: 0.0046 - acc: 0.0741 - val_loss: 0.0046 - val_acc: 0.0726\n",
      "Epoch 88/100\n",
      "179955/179955 [==============================] - 1s 4us/step - loss: 0.0046 - acc: 0.0745 - val_loss: 0.0046 - val_acc: 0.0726\n",
      "Epoch 89/100\n",
      "179955/179955 [==============================] - 1s 4us/step - loss: 0.0046 - acc: 0.0743 - val_loss: 0.0046 - val_acc: 0.0737\n",
      "Epoch 90/100\n",
      "179955/179955 [==============================] - 1s 4us/step - loss: 0.0046 - acc: 0.0748 - val_loss: 0.0046 - val_acc: 0.0732\n",
      "Epoch 91/100\n",
      "179955/179955 [==============================] - 1s 4us/step - loss: 0.0046 - acc: 0.0751 - val_loss: 0.0046 - val_acc: 0.0737\n",
      "Epoch 92/100\n",
      "179955/179955 [==============================] - 1s 3us/step - loss: 0.0046 - acc: 0.0753 - val_loss: 0.0046 - val_acc: 0.0721\n",
      "Epoch 93/100\n",
      "179955/179955 [==============================] - 1s 4us/step - loss: 0.0046 - acc: 0.0755 - val_loss: 0.0046 - val_acc: 0.0726\n",
      "Epoch 94/100\n",
      "179955/179955 [==============================] - 1s 3us/step - loss: 0.0046 - acc: 0.0758 - val_loss: 0.0046 - val_acc: 0.0748\n",
      "Epoch 95/100\n",
      "179955/179955 [==============================] - 1s 3us/step - loss: 0.0046 - acc: 0.0762 - val_loss: 0.0046 - val_acc: 0.0765\n",
      "Epoch 96/100\n",
      "179955/179955 [==============================] - 1s 3us/step - loss: 0.0046 - acc: 0.0763 - val_loss: 0.0046 - val_acc: 0.0732\n",
      "Epoch 97/100\n",
      "179955/179955 [==============================] - 1s 3us/step - loss: 0.0046 - acc: 0.0760 - val_loss: 0.0046 - val_acc: 0.0781\n",
      "Epoch 98/100\n",
      "179955/179955 [==============================] - 1s 4us/step - loss: 0.0046 - acc: 0.0760 - val_loss: 0.0046 - val_acc: 0.0754\n",
      "Epoch 99/100\n",
      "179955/179955 [==============================] - 1s 4us/step - loss: 0.0046 - acc: 0.0768 - val_loss: 0.0046 - val_acc: 0.0792\n",
      "Epoch 100/100\n",
      "179955/179955 [==============================] - 1s 3us/step - loss: 0.0046 - acc: 0.0769 - val_loss: 0.0046 - val_acc: 0.0781\n",
      "Training Done!\n"
     ]
    }
   ],
   "source": [
    "# Do Cross Validation\n",
    "kFold = KFold(n_splits = 10)\n",
    "#Init the Accuracy dictionary = {}\n",
    "accuracy = {}\n",
    "accuracy['MRR'] = np.zeros(10)\n",
    "accuracy['HIT_1'] = np.zeros(10)\n",
    "accuracy['HIT_10'] = np.zeros(10)\n",
    "idx = 0 # Index of accuracy\n",
    "for train_idx, test_idx in kFold.split(X,Y):\n",
    "    # Define train and test data\n",
    "#     print(train_idx)\n",
    "#     print(test_idx)\n",
    "\n",
    "    x_train_cv = X[train_idx]\n",
    "    x_test_cv  = X[test_idx]\n",
    "\n",
    "    y_train_cv = Y[train_idx]\n",
    "    y_test_cv  = Y[test_idx]\n",
    "    y_label_cv = [label[j] for j in test_idx]\n",
    "\n",
    "    # Compare two baseline \n",
    "    # Define two baseline\n",
    "    main_baseline = Simple_RNN_baseline(type_of_Word2Vec_model,vocab_size,embedding_dim,embedding_matrix,MAX_SEQUENCE_LENGTH) # Init main baseline: SimpleRNN\n",
    "\n",
    "    accuracy['MRR'][idx],accuracy['HIT_1'][idx],accuracy['HIT_10'][idx] = train_evaluate(wordvec, main_baseline, x_train_cv, y_train_cv , x_test_cv,y_label_cv)\n",
    "    idx += 1\n",
    "    print('========= Fold {} ============='.format(idx))\n",
    "    print('MRR: {}'.format(accuracy['MRR'][idx]))\n",
    "    print('HIT@1: {}'.format(accuracy['HIT_1'][idx]))\n",
    "    print('HIT@10: {}'.format(accuracy['HIT_10'][idx]))"
   ]
  },
  {
   "cell_type": "code",
   "execution_count": null,
   "metadata": {},
   "outputs": [],
   "source": []
  }
 ],
 "metadata": {
  "kernelspec": {
   "display_name": "python3-gpu",
   "language": "python",
   "name": "python3-gpu"
  },
  "language_info": {
   "codemirror_mode": {
    "name": "ipython",
    "version": 3
   },
   "file_extension": ".py",
   "mimetype": "text/x-python",
   "name": "python",
   "nbconvert_exporter": "python",
   "pygments_lexer": "ipython3",
   "version": "3.4.3"
  }
 },
 "nbformat": 4,
 "nbformat_minor": 2
}
